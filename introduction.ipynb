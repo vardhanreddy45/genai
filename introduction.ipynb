{
  "nbformat": 4,
  "nbformat_minor": 0,
  "metadata": {
    "colab": {
      "provenance": []
    },
    "kernelspec": {
      "name": "python3",
      "display_name": "Python 3"
    },
    "language_info": {
      "name": "python"
    }
  },
  "cells": [
    {
      "cell_type": "code",
      "execution_count": 2,
      "metadata": {
        "colab": {
          "base_uri": "https://localhost:8080/"
        },
        "id": "oYa8fAhLryRQ",
        "outputId": "3c364723-f6e1-4df8-9bff-a4548bd23498"
      },
      "outputs": [
        {
          "output_type": "stream",
          "name": "stdout",
          "text": [
            "enter a number:9\n",
            "square root: 3.0\n"
          ]
        }
      ],
      "source": [
        "num=float(input(\"enter a number:\"))\n",
        "sqrt=num**0.5\n",
        "print(\"square root:\",sqrt)"
      ]
    },
    {
      "cell_type": "code",
      "source": [
        "num1 = float(input(\"Enter first number: \"))\n",
        "num2 = float(input(\"Enter second number: \"))\n",
        "temp = num1\n",
        "num1 = num2\n",
        "num2 = temp\n",
        "print(\"First number:\", num1)\n",
        "print(\"Second number:\", num2)"
      ],
      "metadata": {
        "colab": {
          "base_uri": "https://localhost:8080/"
        },
        "id": "eQuopFPXs2P2",
        "outputId": "8cbf245b-51ed-4e64-e22c-fcac0de4bb99"
      },
      "execution_count": 8,
      "outputs": [
        {
          "output_type": "stream",
          "name": "stdout",
          "text": [
            "Enter first number: 5\n",
            "Enter second number: 8\n",
            "First number: 8.0\n",
            "Second number: 5.0\n"
          ]
        }
      ]
    },
    {
      "cell_type": "code",
      "source": [
        "x=int(input(\"enter a number: \"))\n",
        "if x==0:\n",
        "      print(\"zero\")\n",
        "\n",
        "elif x>0:\n",
        "     print(\"positive\")\n",
        "\n",
        "else:\n",
        "     print(\"negative\")"
      ],
      "metadata": {
        "colab": {
          "base_uri": "https://localhost:8080/"
        },
        "id": "dRPOslexuz2A",
        "outputId": "7f89a89d-760e-43b6-8c8f-851b95fe1361"
      },
      "execution_count": 16,
      "outputs": [
        {
          "output_type": "stream",
          "name": "stdout",
          "text": [
            "enter a number: 0\n",
            "zero\n"
          ]
        }
      ]
    },
    {
      "cell_type": "code",
      "source": [
        "x=int(input())\n",
        "if x%2==0:\n",
        "  print(\"even\")\n",
        "else:\n",
        "  print(\"odd\")"
      ],
      "metadata": {
        "colab": {
          "base_uri": "https://localhost:8080/"
        },
        "id": "VMNwCr0XxDNP",
        "outputId": "81e40674-df53-48df-ea43-a3c95b3ca90d"
      },
      "execution_count": 22,
      "outputs": [
        {
          "output_type": "stream",
          "name": "stdout",
          "text": [
            "5\n",
            "odd\n"
          ]
        }
      ]
    },
    {
      "cell_type": "code",
      "source": [
        "x=int(input())\n",
        "fact =  1\n",
        "for i in range(1, x+1):\n",
        "\n",
        "  fact=fact*i\n",
        "print(\"The factorial of\", num, \"is\", fact)\n",
        "\n"
      ],
      "metadata": {
        "colab": {
          "base_uri": "https://localhost:8080/"
        },
        "id": "QQ11_vTGx0DF",
        "outputId": "2f76b3b5-6544-4f13-c2a8-8d61f67fabbf"
      },
      "execution_count": 35,
      "outputs": [
        {
          "output_type": "stream",
          "name": "stdout",
          "text": [
            "5\n",
            "The factorial of 5 is 120\n"
          ]
        }
      ]
    },
    {
      "cell_type": "code",
      "source": [
        "import pandas as pd\n",
        "data={'name': ['alice', 'bob', 'charlie',],\n",
        "      'age': [25, 20, 22],\n",
        "      'city': ['new york', 'san francisco', 'los angeles']}\n",
        "df=pd.DataFrame(data)\n",
        "print(df)"
      ],
      "metadata": {
        "colab": {
          "base_uri": "https://localhost:8080/"
        },
        "id": "SLRsdS6vyyx_",
        "outputId": "7bb40cb1-66a5-4ea6-ed8c-a77164c11c3e"
      },
      "execution_count": 36,
      "outputs": [
        {
          "output_type": "stream",
          "name": "stdout",
          "text": [
            "      name  age           city\n",
            "0    alice   25       new york\n",
            "1      bob   20  san francisco\n",
            "2  charlie   22    los angeles\n"
          ]
        }
      ]
    },
    {
      "cell_type": "code",
      "source": [],
      "metadata": {
        "id": "Oh3fmiZD2xuW"
      },
      "execution_count": null,
      "outputs": []
    }
  ]
}