{
  "nbformat": 4,
  "nbformat_minor": 0,
  "metadata": {
    "colab": {
      "provenance": [],
      "authorship_tag": "ABX9TyOOCw8P8hEEMauJ/SKdEj8k",
      "include_colab_link": true
    },
    "kernelspec": {
      "name": "python3",
      "display_name": "Python 3"
    },
    "language_info": {
      "name": "python"
    }
  },
  "cells": [
    {
      "cell_type": "markdown",
      "metadata": {
        "id": "view-in-github",
        "colab_type": "text"
      },
      "source": [
        "<a href=\"https://colab.research.google.com/github/vardhanreddy45/genai/blob/main/GENAI_2.ipynb\" target=\"_parent\"><img src=\"https://colab.research.google.com/assets/colab-badge.svg\" alt=\"Open In Colab\"/></a>"
      ]
    },
    {
      "cell_type": "code",
      "source": [
        "!pip install pytesseract"
      ],
      "metadata": {
        "colab": {
          "base_uri": "https://localhost:8080/"
        },
        "id": "euPASJ49rZw4",
        "outputId": "51b17c9c-2fa2-4081-98e3-179021a636dd"
      },
      "execution_count": 16,
      "outputs": [
        {
          "output_type": "stream",
          "name": "stdout",
          "text": [
            "Requirement already satisfied: pytesseract in /usr/local/lib/python3.11/dist-packages (0.3.13)\n",
            "Requirement already satisfied: packaging>=21.3 in /usr/local/lib/python3.11/dist-packages (from pytesseract) (25.0)\n",
            "Requirement already satisfied: Pillow>=8.0.0 in /usr/local/lib/python3.11/dist-packages (from pytesseract) (11.3.0)\n"
          ]
        }
      ]
    },
    {
      "cell_type": "code",
      "source": [
        "import pytesseract\n",
        "from PIL import Image\n",
        "from transformers import pipeline"
      ],
      "metadata": {
        "id": "jh8KL-S2sA5A"
      },
      "execution_count": 17,
      "outputs": []
    },
    {
      "cell_type": "code",
      "source": [
        "from PIL import Image\n",
        "Input=\"/content/photo-1494871262121-49703fd34e2b.jpg\"\n",
        "Input_image=Image.open(Input)"
      ],
      "metadata": {
        "id": "-0Iv9a7msYQp"
      },
      "execution_count": 18,
      "outputs": []
    },
    {
      "cell_type": "code",
      "source": [
        "import re\n",
        "Text_output=pytesseract.image_to_string(Input_image,lang='eng').strip()\n",
        "Text_output=re.sub(r'\\s+',' ',Text_output)"
      ],
      "metadata": {
        "id": "CLhFznRBt6Lg"
      },
      "execution_count": 19,
      "outputs": []
    },
    {
      "cell_type": "code",
      "source": [
        "if not Text_output:\n",
        "  print(\"No text found in the image\")\n",
        "else:\n",
        "    print(f\"Extracted Text: {extracted_text}\")\n",
        "    sentiment_analyzer=pipeline(\"sentiment-analysis\")\n",
        "    sentiment_result=sentiment_analyzer(extracted_text)[0]\n",
        "    print(\"\\nsentiment Analysis:\")\n",
        "    print(f\"Text: {extracted_text}\")\n",
        "    print(f\"Sentiment: {sentiment_result['label']} (score: {sentiment_result[score]:2f}\\n\")\n",
        ""
      ],
      "metadata": {
        "colab": {
          "base_uri": "https://localhost:8080/"
        },
        "id": "A1v6bqqtudyB",
        "outputId": "dccd1957-e344-4813-d3cd-c52843daaa25"
      },
      "execution_count": 20,
      "outputs": [
        {
          "output_type": "stream",
          "name": "stdout",
          "text": [
            "No text found in the image\n"
          ]
        }
      ]
    }
  ]
}